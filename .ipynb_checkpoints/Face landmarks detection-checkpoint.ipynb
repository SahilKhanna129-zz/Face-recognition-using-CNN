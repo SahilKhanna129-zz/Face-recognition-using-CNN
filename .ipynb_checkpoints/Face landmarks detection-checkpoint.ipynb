{
 "cells": [
  {
   "cell_type": "code",
   "execution_count": 1,
   "metadata": {
    "collapsed": true
   },
   "outputs": [],
   "source": [
    "import sys\n",
    "import dlib\n",
    "from skimage import io"
   ]
  },
  {
   "cell_type": "code",
   "execution_count": 2,
   "metadata": {
    "collapsed": true
   },
   "outputs": [],
   "source": [
    "# Download the required pre-trained landmark detection model here: http://dlib.net/files/shape_predictor_68_face_landmarks.dat.bz2\n",
    "prediction_model = \"C:\\\\Users\\\\skhan\\\\Documents\\\\Face-recognition\\\\shape_predictor_68_face_landmarks.dat\"\n",
    "\n",
    "# Load the image\n",
    "file_name = 'C:\\\\Users\\\\skhan\\\\Downloads\\\\1.jpg'"
   ]
  },
  {
   "cell_type": "code",
   "execution_count": 3,
   "metadata": {
    "collapsed": true
   },
   "outputs": [],
   "source": [
    "# Create a HOG face detector using the built-in dlib class\n",
    "face_detector = dlib.get_frontal_face_detector()\n",
    "\n",
    "# Create landmark face detector using the downloaded model\n",
    "face_pose_predictor = dlib.shape_predictor(prediction_model)\n",
    "\n",
    "# Window object to display image boundings\n",
    "window = dlib.image_window()"
   ]
  },
  {
   "cell_type": "code",
   "execution_count": 4,
   "metadata": {},
   "outputs": [
    {
     "name": "stdout",
     "output_type": "stream",
     "text": [
      "Found 1 faces in the image file C:\\Users\\skhan\\Downloads\\1.jpg\n"
     ]
    }
   ],
   "source": [
    "# Load the image\n",
    "image = io.imread(file_name)\n",
    "\n",
    "# Run the HOG face detector on the image data\n",
    "detected_faces = face_detector(image, 1)\n",
    "\n",
    "print(\"Found {} faces in the image file {}\".format(len(detected_faces), file_name))\n",
    "\n",
    "# Show the desktop window with the image\n",
    "window.set_image(image)\n"
   ]
  },
  {
   "cell_type": "code",
   "execution_count": 5,
   "metadata": {},
   "outputs": [
    {
     "name": "stdout",
     "output_type": "stream",
     "text": [
      "- Face #0 found at Left: 583 Top: 736 Right: 1963 Bottom: 2117\n"
     ]
    }
   ],
   "source": [
    "# Loop through each face we found in the image\n",
    "for i, face_rect in enumerate(detected_faces):\n",
    "    # Detected faces are returned as an object with the coordinates of the top, left, right and bottom edges\n",
    "    print(\"- Face #{} found at Left: {} Top: {} Right: {} Bottom: {}\".format(i, face_rect.left(), face_rect.top(), face_rect.right(), face_rect.bottom()))\n",
    "\n",
    "    # Draw a box around each face we found\n",
    "    window.add_overlay(face_rect)\n",
    "\n",
    "    # Get the the face's pose\n",
    "    pose_landmarks = face_pose_predictor(image, face_rect)\n",
    "\n",
    "    # Draw the face landmarks on the screen.\n",
    "    window.add_overlay(pose_landmarks)\n",
    "        \n",
    "dlib.hit_enter_to_continue()"
   ]
  }
 ],
 "metadata": {
  "kernelspec": {
   "display_name": "Python 3",
   "language": "python",
   "name": "python3"
  },
  "language_info": {
   "codemirror_mode": {
    "name": "ipython",
    "version": 3
   },
   "file_extension": ".py",
   "mimetype": "text/x-python",
   "name": "python",
   "nbconvert_exporter": "python",
   "pygments_lexer": "ipython3",
   "version": "3.5.3"
  }
 },
 "nbformat": 4,
 "nbformat_minor": 2
}
