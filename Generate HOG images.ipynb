{
 "cells": [
  {
   "cell_type": "code",
   "execution_count": 10,
   "metadata": {},
   "outputs": [
    {
     "name": "stdout",
     "output_type": "stream",
     "text": [
      "I found 1 faces in the file C:\\Users\\skhan\\Downloads\\Kropper_face.jpg\n",
      "- Face #0 found at Left: 81 Top: 98 Right: 236 Bottom: 253\n"
     ]
    }
   ],
   "source": [
    "import sys\n",
    "import dlib\n",
    "from skimage import io\n",
    "\n",
    "# Take the image file name from the command line\n",
    "file_name = 'C:\\\\Users\\\\skhan\\\\Downloads\\\\Kropper_face.jpg'\n",
    "\n",
    "# Create a HOG face detector using the built-in dlib class\n",
    "face_detector = dlib.get_frontal_face_detector()\n",
    "\n",
    "# Create a window object to display image boundings\n",
    "window = dlib.image_window()\n",
    "\n",
    "# Load the image into an array\n",
    "image = io.imread(file_name)\n",
    "\n",
    "# Run the HOG face detector on the image data. The result will be the bounding boxes of the faces in our image.\n",
    "detected_faces = face_detector(image, 1)\n",
    "\n",
    "print(\"I found {} faces in the file {}\".format(len(detected_faces), file_name))\n",
    "\n",
    "# Open a window on the desktop showing the image\n",
    "window.set_image(image)\n",
    "\n",
    "# Loop through each face we found in the image\n",
    "for i, face_rect in enumerate(detected_faces):\n",
    "\n",
    "    # Detected faces are returned as an object with the coordinates of the top, left, right and bottom edges\n",
    "    print(\"- Face #{} found at Left: {} Top: {} Right: {} Bottom: {}\".format(i, face_rect.left(), face_rect.top(), face_rect.right(), face_rect.bottom()))\n",
    "\n",
    "    # Draw a box around each face we found\n",
    "    window.add_overlay(face_rect)\n",
    "      \n",
    "# Wait until the user hits <enter> to close the window\t        \n",
    "dlib.hit_enter_to_continue()"
   ]
  }
 ],
 "metadata": {
  "kernelspec": {
   "display_name": "Python 3",
   "language": "python",
   "name": "python3"
  },
  "language_info": {
   "codemirror_mode": {
    "name": "ipython",
    "version": 3
   },
   "file_extension": ".py",
   "mimetype": "text/x-python",
   "name": "python",
   "nbconvert_exporter": "python",
   "pygments_lexer": "ipython3",
   "version": "3.5.3"
  }
 },
 "nbformat": 4,
 "nbformat_minor": 2
}
